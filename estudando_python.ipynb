{
  "nbformat": 4,
  "nbformat_minor": 0,
  "metadata": {
    "colab": {
      "provenance": [],
      "authorship_tag": "ABX9TyPHX65PGRfmkhUDzhSi/9Du",
      "include_colab_link": true
    },
    "kernelspec": {
      "name": "python3",
      "display_name": "Python 3"
    },
    "language_info": {
      "name": "python"
    }
  },
  "cells": [
    {
      "cell_type": "markdown",
      "metadata": {
        "id": "view-in-github",
        "colab_type": "text"
      },
      "source": [
        "<a href=\"https://colab.research.google.com/github/gui-prad0/MBA_USP/blob/main/estudando_python.ipynb\" target=\"_parent\"><img src=\"https://colab.research.google.com/assets/colab-badge.svg\" alt=\"Open In Colab\"/></a>"
      ]
    },
    {
      "cell_type": "code",
      "execution_count": 1,
      "metadata": {
        "colab": {
          "base_uri": "https://localhost:8080/"
        },
        "id": "da_949pbsLic",
        "outputId": "cece3071-9483-4853-e847-9895f7c0cec4"
      },
      "outputs": [
        {
          "output_type": "stream",
          "name": "stdout",
          "text": [
            "As vendas aumentaram ao longo do ano.\n",
            "\n",
            "Tudo certo, professor?\n"
          ]
        }
      ],
      "source": [
        "#Exercício do Prof. Daniel no dia 15/05/24\n",
        "\n",
        "#Vendas do primeiro semestre de 2024\n",
        "vendas = [22,32,42,55,57,60]\n",
        "\n",
        "#lista das vendas do primeiro trimestre\n",
        "vendas_primeiro_trimestre = vendas [:3]\n",
        "\n",
        "#lista das vendas do segundo trimestre\n",
        "vendas_segundo_trimestre = vendas [3:]\n",
        "\n",
        "# Criar um programa com if/else que mostra se as vendas aumentaram ao longo do ano\n",
        "media_primeiro_trimestre = sum(vendas_primeiro_trimestre) / len(vendas_primeiro_trimestre)\n",
        "media_segundo_trimestre = sum(vendas_segundo_trimestre) / len(vendas_segundo_trimestre)\n",
        "\n",
        "if media_segundo_trimestre > media_primeiro_trimestre:\n",
        "    print(\"As vendas aumentaram ao longo do ano.\")\n",
        "else:\n",
        "    print(\"As vendas não aumentaram ao longo do ano.\")\n",
        "\n",
        "print()\n",
        "print(\"Tudo certo, professor?\")"
      ]
    }
  ]
}